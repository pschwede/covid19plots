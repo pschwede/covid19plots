{
 "cells": [
  {
   "cell_type": "code",
   "execution_count": 1,
   "metadata": {},
   "outputs": [],
   "source": [
    "import pandas as pd\n",
    "import matplotlib.pyplot as plt\n",
    "from scrape import entorb\n",
    "\n",
    "federal_state_translation = {\n",
    "    \"BB\": \"Brandenburg\",\n",
    "    \"BE\": \"Berlin\",\n",
    "    \"BW\": \"Baden-Württemberg\",\n",
    "    \"BY\": \"Bayern\",\n",
    "    \"HB\": \"Bremen\",\n",
    "    \"HE\": \"Hessen\",\n",
    "    \"HH\": \"Hamburg\",\n",
    "    \"MV\": \"Mecklenburg-Vorpommern\",\n",
    "    \"NI\": \"Niedersachsen\",\n",
    "    \"NW\": \"Nordrhein-Westfalen\",\n",
    "    \"RP\": \"Rheinland-Pfalz\",\n",
    "    \"SH\": \"Schleswig-Holstein\",\n",
    "    \"SL\": \"Saarland\",\n",
    "    \"SN\": \"Sachsen\",\n",
    "    \"ST\": \"Sachsen-Anhalt\",\n",
    "    \"TH\": \"Thüringen\",\n",
    "    \"DE-total\": \"Deutschland\",\n",
    "}\n",
    "inv_fst = {v: k for k, v in federal_state_translation.items()}\n",
    "\n",
    "df = pd \\\n",
    ".read_csv(\"data/fertility_de.tsv\",\n",
    "          sep=\"\\t\",\n",
    "          usecols=['States', 'Fertilitätsrate pro Frau'])\n",
    "cpm = []\n",
    "std = []\n",
    "for area in df['States']:\n",
    "    de = entorb.to_dataframe(inv_fst[area])\n",
    "    cpm.append(de.rolling('7D').mean().last('1D')['Cases_Per_Million'].sum())\n",
    "df['Cases_Per_Million'] = cpm"
   ]
  },
  {
   "cell_type": "code",
   "execution_count": 2,
   "metadata": {},
   "outputs": [
    {
     "data": {
      "text/html": [
       "<div>\n",
       "<style scoped>\n",
       "    .dataframe tbody tr th:only-of-type {\n",
       "        vertical-align: middle;\n",
       "    }\n",
       "\n",
       "    .dataframe tbody tr th {\n",
       "        vertical-align: top;\n",
       "    }\n",
       "\n",
       "    .dataframe thead th {\n",
       "        text-align: right;\n",
       "    }\n",
       "</style>\n",
       "<table border=\"1\" class=\"dataframe\">\n",
       "  <thead>\n",
       "    <tr style=\"text-align: right;\">\n",
       "      <th></th>\n",
       "      <th>States</th>\n",
       "      <th>Fertilitätsrate pro Frau</th>\n",
       "      <th>Cases_Per_Million</th>\n",
       "    </tr>\n",
       "  </thead>\n",
       "  <tbody>\n",
       "    <tr>\n",
       "      <th>0</th>\n",
       "      <td>Brandenburg</td>\n",
       "      <td>1.69</td>\n",
       "      <td>1165.026000</td>\n",
       "    </tr>\n",
       "    <tr>\n",
       "      <th>1</th>\n",
       "      <td>Niedersachsen</td>\n",
       "      <td>1.68</td>\n",
       "      <td>1295.564714</td>\n",
       "    </tr>\n",
       "    <tr>\n",
       "      <th>2</th>\n",
       "      <td>Sachsen</td>\n",
       "      <td>1.66</td>\n",
       "      <td>1155.076286</td>\n",
       "    </tr>\n",
       "    <tr>\n",
       "      <th>3</th>\n",
       "      <td>Bremen</td>\n",
       "      <td>1.63</td>\n",
       "      <td>1311.859429</td>\n",
       "    </tr>\n",
       "    <tr>\n",
       "      <th>4</th>\n",
       "      <td>Thüringen</td>\n",
       "      <td>1.63</td>\n",
       "      <td>1108.607571</td>\n",
       "    </tr>\n",
       "    <tr>\n",
       "      <th>5</th>\n",
       "      <td>Sachsen-Anhalt</td>\n",
       "      <td>1.62</td>\n",
       "      <td>715.870714</td>\n",
       "    </tr>\n",
       "    <tr>\n",
       "      <th>6</th>\n",
       "      <td>Nordrhein-Westfalen</td>\n",
       "      <td>1.61</td>\n",
       "      <td>1873.799714</td>\n",
       "    </tr>\n",
       "    <tr>\n",
       "      <th>7</th>\n",
       "      <td>Schleswig-Holstein</td>\n",
       "      <td>1.61</td>\n",
       "      <td>957.542857</td>\n",
       "    </tr>\n",
       "    <tr>\n",
       "      <th>8</th>\n",
       "      <td>Rheinland-Pfalz</td>\n",
       "      <td>1.60</td>\n",
       "      <td>1504.952286</td>\n",
       "    </tr>\n",
       "    <tr>\n",
       "      <th>9</th>\n",
       "      <td>Baden-Württemberg</td>\n",
       "      <td>1.59</td>\n",
       "      <td>2924.212714</td>\n",
       "    </tr>\n",
       "    <tr>\n",
       "      <th>10</th>\n",
       "      <td>Hessen</td>\n",
       "      <td>1.58</td>\n",
       "      <td>1365.644714</td>\n",
       "    </tr>\n",
       "    <tr>\n",
       "      <th>11</th>\n",
       "      <td>Bayern</td>\n",
       "      <td>1.56</td>\n",
       "      <td>3289.678714</td>\n",
       "    </tr>\n",
       "    <tr>\n",
       "      <th>12</th>\n",
       "      <td>Mecklenburg-Vorpommern</td>\n",
       "      <td>1.56</td>\n",
       "      <td>436.105857</td>\n",
       "    </tr>\n",
       "    <tr>\n",
       "      <th>13</th>\n",
       "      <td>Hamburg</td>\n",
       "      <td>1.55</td>\n",
       "      <td>2521.026714</td>\n",
       "    </tr>\n",
       "    <tr>\n",
       "      <th>14</th>\n",
       "      <td>Berlin</td>\n",
       "      <td>1.54</td>\n",
       "      <td>1650.061000</td>\n",
       "    </tr>\n",
       "    <tr>\n",
       "      <th>15</th>\n",
       "      <td>Saarland</td>\n",
       "      <td>1.49</td>\n",
       "      <td>2638.061714</td>\n",
       "    </tr>\n",
       "    <tr>\n",
       "      <th>16</th>\n",
       "      <td>Deutschland</td>\n",
       "      <td>1.59</td>\n",
       "      <td>1966.653286</td>\n",
       "    </tr>\n",
       "  </tbody>\n",
       "</table>\n",
       "</div>"
      ],
      "text/plain": [
       "                    States  Fertilitätsrate pro Frau  Cases_Per_Million\n",
       "0              Brandenburg                      1.69        1165.026000\n",
       "1            Niedersachsen                      1.68        1295.564714\n",
       "2                  Sachsen                      1.66        1155.076286\n",
       "3                   Bremen                      1.63        1311.859429\n",
       "4                Thüringen                      1.63        1108.607571\n",
       "5           Sachsen-Anhalt                      1.62         715.870714\n",
       "6      Nordrhein-Westfalen                      1.61        1873.799714\n",
       "7       Schleswig-Holstein                      1.61         957.542857\n",
       "8          Rheinland-Pfalz                      1.60        1504.952286\n",
       "9        Baden-Württemberg                      1.59        2924.212714\n",
       "10                  Hessen                      1.58        1365.644714\n",
       "11                  Bayern                      1.56        3289.678714\n",
       "12  Mecklenburg-Vorpommern                      1.56         436.105857\n",
       "13                 Hamburg                      1.55        2521.026714\n",
       "14                  Berlin                      1.54        1650.061000\n",
       "15                Saarland                      1.49        2638.061714\n",
       "16             Deutschland                      1.59        1966.653286"
      ]
     },
     "execution_count": 2,
     "metadata": {},
     "output_type": "execute_result"
    }
   ],
   "source": [
    "df"
   ]
  },
  {
   "cell_type": "code",
   "execution_count": 3,
   "metadata": {},
   "outputs": [
    {
     "data": {
      "image/png": "[encoded data removed]",
      "text/plain": [
       "<Figure size 432x288 with 4 Axes>"
      ]
     },
     "metadata": {
      "needs_background": "light"
     },
     "output_type": "display_data"
    }
   ],
   "source": [
    "t = pd.plotting.scatter_matrix(df)"
   ]
  },
  {
   "cell_type": "code",
   "execution_count": 4,
   "metadata": {},
   "outputs": [
    {
     "data": {
      "text/html": [
       "<style  type=\"text/css\" >\n",
       "    #T_7cfb1b98_9098_11ea_906a_9fecc6ab7336row0_col0 {\n",
       "            background-color:  #08306b;\n",
       "            color:  #f1f1f1;\n",
       "        }    #T_7cfb1b98_9098_11ea_906a_9fecc6ab7336row0_col1 {\n",
       "            background-color:  #f7fbff;\n",
       "            color:  #000000;\n",
       "        }    #T_7cfb1b98_9098_11ea_906a_9fecc6ab7336row1_col0 {\n",
       "            background-color:  #f7fbff;\n",
       "            color:  #000000;\n",
       "        }    #T_7cfb1b98_9098_11ea_906a_9fecc6ab7336row1_col1 {\n",
       "            background-color:  #08306b;\n",
       "            color:  #f1f1f1;\n",
       "        }</style><table id=\"T_7cfb1b98_9098_11ea_906a_9fecc6ab7336\" ><thead>    <tr>        <th class=\"blank level0\" ></th>        <th class=\"col_heading level0 col0\" >Fertilitätsrate pro Frau</th>        <th class=\"col_heading level0 col1\" >Cases_Per_Million</th>    </tr></thead><tbody>\n",
       "                <tr>\n",
       "                        <th id=\"T_7cfb1b98_9098_11ea_906a_9fecc6ab7336level0_row0\" class=\"row_heading level0 row0\" >Fertilitätsrate pro Frau</th>\n",
       "                        <td id=\"T_7cfb1b98_9098_11ea_906a_9fecc6ab7336row0_col0\" class=\"data row0 col0\" >1.000000</td>\n",
       "                        <td id=\"T_7cfb1b98_9098_11ea_906a_9fecc6ab7336row0_col1\" class=\"data row0 col1\" >0.254428</td>\n",
       "            </tr>\n",
       "            <tr>\n",
       "                        <th id=\"T_7cfb1b98_9098_11ea_906a_9fecc6ab7336level0_row1\" class=\"row_heading level0 row1\" >Cases_Per_Million</th>\n",
       "                        <td id=\"T_7cfb1b98_9098_11ea_906a_9fecc6ab7336row1_col0\" class=\"data row1 col0\" >0.254428</td>\n",
       "                        <td id=\"T_7cfb1b98_9098_11ea_906a_9fecc6ab7336row1_col1\" class=\"data row1 col1\" >1.000000</td>\n",
       "            </tr>\n",
       "    </tbody></table>"
      ],
      "text/plain": [
       "<pandas.io.formats.style.Styler at 0x7fb92f779310>"
      ]
     },
     "execution_count": 4,
     "metadata": {},
     "output_type": "execute_result"
    }
   ],
   "source": [
    "corr = df.corr()**2\n",
    "corr.style.background_gradient(cmap='Blues')"
   ]
  },
  {
   "cell_type": "code",
   "execution_count": 5,
   "metadata": {},
   "outputs": [
    {
     "data": {
      "text/plain": [
       "<matplotlib.axes._subplots.AxesSubplot at 0x7fb92ece07c0>"
      ]
     },
     "execution_count": 5,
     "metadata": {},
     "output_type": "execute_result"
    },
    {
     "data": {
      "image/png": "[encoded data removed]",
      "text/plain": [
       "<Figure size 1152x432 with 2 Axes>"
      ]
     },
     "metadata": {
      "needs_background": "light"
     },
     "output_type": "display_data"
    }
   ],
   "source": [
    "fig, axes = plt.subplots(ncols=2, sharey=True, figsize=(16,6))\n",
    "\n",
    "ax = df.plot(kind='barh',\n",
    "             x='States',\n",
    "             y='Fertilitätsrate pro Frau',\n",
    "             title='Fertilitätsrate pro Frau',\n",
    "             legend=False,\n",
    "             ax=axes[0])\n",
    "axes[0].set_xlim(df['Fertilitätsrate pro Frau'].max()+0.1, df['Fertilitätsrate pro Frau'].min()-0.1)\n",
    "df.plot(kind='barh',\n",
    "        x='States',\n",
    "        y='Cases_Per_Million',\n",
    "        title='Cases_Per_Million',\n",
    "        legend=False,\n",
    "        ax=axes[1])"
   ]
  },
  {
   "cell_type": "code",
   "execution_count": null,
   "metadata": {},
   "outputs": [],
   "source": []
  }
 ],
 "metadata": {
  "kernelspec": {
   "display_name": "Python 3",
   "language": "python",
   "name": "python3"
  },
  "language_info": {
   "codemirror_mode": {
    "name": "ipython",
    "version": 3
   },
   "file_extension": ".py",
   "mimetype": "text/x-python",
   "name": "python",
   "nbconvert_exporter": "python",
   "pygments_lexer": "ipython3",
   "version": "3.8.3rc1"
  }
 },
 "nbformat": 4,
 "nbformat_minor": 4
}
