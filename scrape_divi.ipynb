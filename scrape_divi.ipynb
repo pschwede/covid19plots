{
 "cells": [
  {
   "cell_type": "markdown",
   "metadata": {},
   "source": [
    "# DIVI Intensivregister\n",
    "\n",
    "## What are we dealing with?\n",
    "[It](https://www.intensivregister.de/#/intensivregister) is a php-generated page containing a table which lists many (not all?) German clinics in a column labeled *Klinikname*. Other columns are labeled *Kontakt* = contact info, *Bundesland* = federal state, [*ICU*](https://en.wikipedia.org/wiki/Intensive_care_unit) *low care*, *ICU high care*, [*ECMO*](https://en.wikipedia.org/wiki/Extracorporeal_membrane_oxygenation) and *Stand* = time stamp. The columns *ICU* and *ECMO* solely contain colored bubbles to illustrate the availability of these resources. The legends explains as follows:\n",
    "\n",
    "* red = *Verfügbar* = ready\n",
    "* yellow = *Begrenzt* = limited\n",
    "* green = *Ausgelastet* = exhausted\n",
    "* unavailable = unknown state\n"
   ]
  },
  {
   "cell_type": "markdown",
   "metadata": {},
   "source": [
    "\n",
    "\n",
    "|  color        |  float  |\n",
    "|:--------------|:-------:|\n",
    "|  red          |   0.0   |\n",
    "|  yellow       |   0.5   |\n",
    "|  green        |   1.0   |\n",
    "|  unavailable  |   NAN   |"
   ]
  },
  {
   "cell_type": "markdown",
   "metadata": {},
   "source": [
    "## What to contribute?\n",
    "The table only shows contemporary data as clinics submit their data (time stamp!). Aside to some statistics on that data -- what might be interesting to see is how it develops over time during the [COVID19](https://en.wikipedia.org/wiki/2019%E2%80%9320_coronavirus_pandemic) pandemic."
   ]
  },
  {
   "cell_type": "markdown",
   "metadata": {},
   "source": [
    "## Fetch data"
   ]
  },
  {
   "cell_type": "code",
   "execution_count": 1,
   "metadata": {},
   "outputs": [],
   "source": [
    "import pandas as pd\n",
    "import numpy as np\n",
    "import matplotlib.pyplot as plt\n",
    "from scrape import scrape, divi"
   ]
  },
  {
   "cell_type": "code",
   "execution_count": 2,
   "metadata": {},
   "outputs": [
    {
     "ename": "KeyError",
     "evalue": "'faelleCovidAktuell'",
     "output_type": "error",
     "traceback": [
      "\u001b[0;31m---------------------------------------------------------------------------\u001b[0m",
      "\u001b[0;31mKeyError\u001b[0m                                  Traceback (most recent call last)",
      "\u001b[0;32m<ipython-input-2-0e71db63d6bd>\u001b[0m in \u001b[0;36m<module>\u001b[0;34m\u001b[0m\n\u001b[0;32m----> 1\u001b[0;31m \u001b[0mscrape_result\u001b[0m \u001b[0;34m=\u001b[0m \u001b[0mdivi\u001b[0m\u001b[0;34m.\u001b[0m\u001b[0mto_dataframe\u001b[0m\u001b[0;34m(\u001b[0m\u001b[0;34m)\u001b[0m\u001b[0;34m\u001b[0m\u001b[0;34m\u001b[0m\u001b[0m\n\u001b[0m\u001b[1;32m      2\u001b[0m \u001b[0mscrape_result\u001b[0m\u001b[0;34m.\u001b[0m\u001b[0mdescribe\u001b[0m\u001b[0;34m(\u001b[0m\u001b[0;34m)\u001b[0m\u001b[0;34m\u001b[0m\u001b[0;34m\u001b[0m\u001b[0m\n",
      "\u001b[0;32m~/Documents/Programming/covid19plots/scrape/divi.py\u001b[0m in \u001b[0;36mto_dataframe\u001b[0;34m(mapping)\u001b[0m\n\u001b[1;32m     49\u001b[0m         \u001b[0mcolumns\u001b[0m\u001b[0;34m[\u001b[0m\u001b[0mheaders\u001b[0m\u001b[0;34m[\u001b[0m\u001b[0;36m4\u001b[0m\u001b[0;34m]\u001b[0m\u001b[0;34m]\u001b[0m\u001b[0;34m.\u001b[0m\u001b[0mappend\u001b[0m\u001b[0;34m(\u001b[0m\u001b[0mmapping\u001b[0m\u001b[0;34m(\u001b[0m\u001b[0mrow\u001b[0m\u001b[0;34m[\u001b[0m\u001b[0;34m'bettenStatus'\u001b[0m\u001b[0;34m]\u001b[0m\u001b[0;34m[\u001b[0m\u001b[0;34m'statusECMO'\u001b[0m\u001b[0;34m]\u001b[0m\u001b[0;34m)\u001b[0m\u001b[0;34m)\u001b[0m\u001b[0;34m\u001b[0m\u001b[0;34m\u001b[0m\u001b[0m\n\u001b[1;32m     50\u001b[0m         \u001b[0mcolumns\u001b[0m\u001b[0;34m[\u001b[0m\u001b[0mheaders\u001b[0m\u001b[0;34m[\u001b[0m\u001b[0;36m5\u001b[0m\u001b[0;34m]\u001b[0m\u001b[0;34m]\u001b[0m\u001b[0;34m.\u001b[0m\u001b[0mappend\u001b[0m\u001b[0;34m(\u001b[0m\u001b[0mrow\u001b[0m\u001b[0;34m[\u001b[0m\u001b[0;34m'meldezeitpunkt'\u001b[0m\u001b[0;34m]\u001b[0m\u001b[0;34m)\u001b[0m\u001b[0;34m\u001b[0m\u001b[0;34m\u001b[0m\u001b[0m\n\u001b[0;32m---> 51\u001b[0;31m         \u001b[0mcolumns\u001b[0m\u001b[0;34m[\u001b[0m\u001b[0mheaders\u001b[0m\u001b[0;34m[\u001b[0m\u001b[0;36m6\u001b[0m\u001b[0;34m]\u001b[0m\u001b[0;34m]\u001b[0m\u001b[0;34m.\u001b[0m\u001b[0mappend\u001b[0m\u001b[0;34m(\u001b[0m\u001b[0mrow\u001b[0m\u001b[0;34m[\u001b[0m\u001b[0;34m'faelleCovidAktuell'\u001b[0m\u001b[0;34m]\u001b[0m\u001b[0;34m)\u001b[0m\u001b[0;34m\u001b[0m\u001b[0;34m\u001b[0m\u001b[0m\n\u001b[0m\u001b[1;32m     52\u001b[0m     \u001b[0mresult\u001b[0m \u001b[0;34m=\u001b[0m \u001b[0mpd\u001b[0m\u001b[0;34m.\u001b[0m\u001b[0mDataFrame\u001b[0m\u001b[0;34m(\u001b[0m\u001b[0mcolumns\u001b[0m\u001b[0;34m,\u001b[0m \u001b[0mcolumns\u001b[0m\u001b[0;34m=\u001b[0m\u001b[0mheaders\u001b[0m\u001b[0;34m)\u001b[0m\u001b[0;34m\u001b[0m\u001b[0;34m\u001b[0m\u001b[0m\n\u001b[1;32m     53\u001b[0m     \u001b[0mresult\u001b[0m\u001b[0;34m[\u001b[0m\u001b[0;34m'Stand'\u001b[0m\u001b[0;34m]\u001b[0m \u001b[0;34m=\u001b[0m \u001b[0mpd\u001b[0m\u001b[0;34m.\u001b[0m\u001b[0mto_datetime\u001b[0m\u001b[0;34m(\u001b[0m\u001b[0mresult\u001b[0m\u001b[0;34m[\u001b[0m\u001b[0;34m'Stand'\u001b[0m\u001b[0;34m]\u001b[0m\u001b[0;34m)\u001b[0m\u001b[0;34m\u001b[0m\u001b[0;34m\u001b[0m\u001b[0m\n",
      "\u001b[0;31mKeyError\u001b[0m: 'faelleCovidAktuell'"
     ]
    }
   ],
   "source": [
    "scrape_result = divi.to_dataframe()\n",
    "scrape_result.describe()"
   ]
  },
  {
   "cell_type": "code",
   "execution_count": null,
   "metadata": {},
   "outputs": [],
   "source": [
    "df = scrape_result \\\n",
    ".drop_duplicates()\n",
    "df.describe()"
   ]
  },
  {
   "cell_type": "markdown",
   "metadata": {},
   "source": [
    "## Plot average values (per federal state)"
   ]
  },
  {
   "cell_type": "code",
   "execution_count": null,
   "metadata": {},
   "outputs": [],
   "source": [
    "df \\\n",
    ".groupby('Bundesland').mean().reset_index() \\\n",
    ".plot(kind='barh', x='Bundesland', y=['ECMO', 'ICU high care', 'ICU low care'], stacked=False, figsize=(10,10))\n",
    "plt.title(\"German hospital occupancy (mean)\")\n",
    "plt.xticks([0.0, 0.5, 1.0],[\"ready\", \"limited\", \"exhausted\"])\n",
    "plt.ylabel(\"federal state\")\n",
    "df \\\n",
    ".groupby('Bundesland').mean().reset_index() \\\n",
    ".plot(kind='barh', x='Bundesland', y=['ECMO', 'ICU high care', 'ICU low care'], stacked=True, figsize=(10,10))\n",
    "plt.title(\"German hospital occupancy (mean)\")\n",
    "plt.xticks([0.0, 1.5, 3.0],[\"ready\", \"limited\", \"exhausted\"]) # 3x[0..1] = [0..3]\n",
    "plt.ylabel(\"federal state\")"
   ]
  },
  {
   "cell_type": "markdown",
   "metadata": {},
   "source": [
    "So much for contemporary data.\n",
    "\n",
    "# Historic data\n",
    "Instead of downloading the data from DIVI we are going to use the old scrapes in `data/divi.tsv`:"
   ]
  },
  {
   "cell_type": "code",
   "execution_count": null,
   "metadata": {},
   "outputs": [],
   "source": [
    "#!git pull 2&>1 >/dev/null\n",
    "import pandas as pd\n",
    "import numpy as np\n",
    "import matplotlib.pyplot as plt\n",
    "from datetime import datetime\n",
    "df = pd \\\n",
    ".read_csv(\"data/divi.tsv\", sep=\"\\t\") \\\n",
    ".replace({'NaN': 0.0, 'VERFUEGBAR': 1.0, 'BEGRENZT': 0.5, 'NICHT_VERFUEGBAR': 0.0}) \\\n",
    ".drop_duplicates()\n",
    "df['Stand'] = pd.to_datetime(df['Stand'], format=\"%Y-%m-%d %H:%M:%S\")\n",
    "df = df[(df['Stand'] > '2019-12-31') & (df['Stand'] <= datetime.now())].set_index('Stand') \\\n",
    ".drop(columns='COVID-19 cases')"
   ]
  },
  {
   "cell_type": "code",
   "execution_count": null,
   "metadata": {},
   "outputs": [],
   "source": [
    "old = pd.read_csv(\"data/divi.recovered.tsv\", sep=\"\\t\")\\\n",
    ".drop(columns='COVID-19 cases') \\\n",
    ".replace({'NRW': 'NW', '0': 'NW'})\n",
    "\n",
    "old['Stand'] = pd.to_datetime(old['Stand'], format=\"%Y-%m-%d %H:%M:%S\")\n",
    "\n",
    "old = old[(old['Stand'] > '2019-12-31') & (old['Stand'] <= datetime.now())] \\\n",
    ".set_index('Stand') \\\n",
    ".drop_duplicates()"
   ]
  },
  {
   "cell_type": "code",
   "execution_count": null,
   "metadata": {},
   "outputs": [],
   "source": [
    "df = df.append(old).sort_index().drop_duplicates()\n",
    "df.shape, old.shape"
   ]
  },
  {
   "cell_type": "code",
   "execution_count": null,
   "metadata": {},
   "outputs": [],
   "source": [
    "import matplotlib.dates as mdates\n",
    "from scrape import entorb\n",
    "\n",
    "federal_state_translation = {\n",
    "    \"BB\": \"Brandenburg\",\n",
    "    \"BE\": \"Berlin\",\n",
    "    \"BW\": \"Baden-Württemberg\",\n",
    "    \"BY\": \"Bayern\",\n",
    "    \"HB\": \"Bremen\",\n",
    "    \"HE\": \"Hessen\",\n",
    "    \"HH\": \"Hamburg\",\n",
    "    \"MV\": \"Mecklenburg-Vorpommern\",\n",
    "    \"NI\": \"Niedersachsen\",\n",
    "    \"NW\": \"Nordrhein-Westfalen\",\n",
    "    \"RP\": \"Rheinland-Pfalz\",\n",
    "    \"SH\": \"Schleswig-Holstein\",\n",
    "    \"SL\": \"Saarland\",\n",
    "    \"SN\": \"Sachsen\",\n",
    "    \"ST\": \"Sachsen-Anhalt\",\n",
    "    \"TH\": \"Thüringen\",\n",
    "}\n",
    "\n",
    "columns = ['ICU low care', 'ICU high care', 'ECMO']\n",
    "federal_states = list(set(df['Bundesland']))\n",
    "availability = dict()\n",
    "num_clinics = dict()\n",
    "infections = dict()\n",
    "deaths = dict()\n",
    "\n",
    "# plot each bundesland's total exhaustion\n",
    "# but also keep each curve in dict bundesland_curves for later correlations\n",
    "for federal_state in federal_states:\n",
    "    clinics_curves_sum = None\n",
    "    federal_state_clinics = list(set(df[df['Bundesland'] == federal_state]['Klinikname']))\n",
    "    \n",
    "    # apply padding to each clinic's curve\n",
    "    for clinic in federal_state_clinics:\n",
    "        # use resample() here because we want to correlate day-by-day later\n",
    "        clinic_curve = df[df['Klinikname'] == clinic] \\\n",
    "        .drop(columns=['Bundesland', 'Klinikname']) \\\n",
    "        .resample(\"1D\").sum()\n",
    "\n",
    "        # is there something less clumsy from pandas?\n",
    "        if clinics_curves_sum is None:\n",
    "            clinics_curves_sum = clinic_curve\n",
    "        else:\n",
    "            clinics_curves_sum = clinics_curves_sum.add(clinic_curve, fill_value=0)\n",
    "    \n",
    "    availability[federal_state] = clinics_curves_sum\n",
    "    num_clinics[federal_state] = len(federal_state_clinics)\n",
    "    #infections[federal_state] = entorb.to_dataframe(federal_state)['Cases_New']\n",
    "    deaths[federal_state] = entorb.to_dataframe(federal_state)['Deaths_New']\n",
    "    deaths[federal_state].name = 'deaths'"
   ]
  },
  {
   "cell_type": "code",
   "execution_count": null,
   "metadata": {
    "scrolled": false
   },
   "outputs": [],
   "source": [
    "import matplotlib.dates as mdate\n",
    "\n",
    "for federal_state in sorted(federal_states):\n",
    "    fig, ax = plt.subplots()\n",
    "    #infections[federal_state].plot(kind='line', ax=ax, secondary_y=True, color='red', linestyle='-', marker='')\n",
    "    deaths[federal_state].plot(kind='line', ax=ax, color='grey', linestyle=':', marker='+', legend=True, figsize=(16,9))\n",
    "\n",
    "    availability[federal_state].plot(kind='line', ax=ax, secondary_y=True, drawstyle='steps-post', marker='')\n",
    "    plt.yticks([0.0 * num_clinics[federal_state],\n",
    "                0.5 * num_clinics[federal_state],\n",
    "                1.0 * num_clinics[federal_state]],\n",
    "               [\"available\", \"limited\", \"unavailable\"])\n",
    "\n",
    "    plt.title(\"%s\" % federal_state_translation[federal_state])"
   ]
  },
  {
   "cell_type": "code",
   "execution_count": null,
   "metadata": {},
   "outputs": [],
   "source": []
  }
 ],
 "metadata": {
  "kernelspec": {
   "display_name": "Python 3",
   "language": "python",
   "name": "python3"
  },
  "language_info": {
   "codemirror_mode": {
    "name": "ipython",
    "version": 3
   },
   "file_extension": ".py",
   "mimetype": "text/x-python",
   "name": "python",
   "nbconvert_exporter": "python",
   "pygments_lexer": "ipython3",
   "version": "3.8.2"
  }
 },
 "nbformat": 4,
 "nbformat_minor": 4
}
