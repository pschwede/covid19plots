{
 "cells": [
  {
   "cell_type": "code",
   "execution_count": 97,
   "metadata": {},
   "outputs": [],
   "source": [
    "\"\"\"\n",
    "Plotte Auslastung der Intensivbetten der Bundesländer\n",
    "\n",
    "Plot intensive bed usage of each German federal state\n",
    "\"\"\"\n",
    "# !pip install requests lxml pandas matplotlib numpy\n",
    "import os\n",
    "from typing import Dict, List, Tuple, Callable\n",
    "from time import sleep\n",
    "from datetime import datetime\n",
    "\n",
    "import csv\n",
    "import requests\n",
    "import lxml.html.soupparser as soupparser\n",
    "import lxml.etree as etree\n",
    "import pandas as pd\n",
    "import numpy as np\n",
    "import matplotlib.pyplot as plt\n",
    "\n",
    "\n",
    "def get_html(url: str, params: Dict = None, retries: int = 10) -> str:\n",
    "    \"\"\"\n",
    "    Download DIVI html.\n",
    "    \"\"\"\n",
    "    params = params if params else {}\n",
    "\n",
    "    nap_time = 200\n",
    "    while retries:\n",
    "        resp = requests.post(url, params=params)\n",
    "        if resp.status_code == 200:\n",
    "            return resp.text\n",
    "        sleep(nap_time)\n",
    "        nap_time *= 2\n",
    "        retries -= 1\n",
    "    raise Exception(\"No response.\")\n",
    "\n",
    "\n",
    "def to_dataframe(html: str) -> pd.DataFrame:\n",
    "    \"\"\"\n",
    "    Turn html tables into into a dictionary.\n",
    "    * respects <small/>-tags in first column\n",
    "    * respects classes of <span/>-tags in columns where there's no content\n",
    "    * empty cells will be contained as empty strings `\"\"`\n",
    "    * converts dates in last column to datetime objects\n",
    "    \"\"\"\n",
    "    STRESS = {'green': 1.0, 'yellow': 0.5, 'red': 0.0, 'unavailable': np.nan}\n",
    "    \n",
    "    result = list()\n",
    "    table = soupparser.fromstring(html) \\\n",
    "            .xpath(\"/html/body/div/div/div/div/div/div/form/div/div/table\")[0]\n",
    "\n",
    "    headers = [x.text_content().strip() for x in table.xpath(\"thead//th\")]\n",
    "    result = {head: [] for head in headers}\n",
    "\n",
    "    for table_row in table.xpath(\"tbody/tr\"):\n",
    "        table_row_cells = list()\n",
    "        for i, cell in enumerate(table_row.xpath(\"td\")):\n",
    "            cell_content = cell.text_content().replace(\"\\n\", \" \")\n",
    "            \n",
    "            # first column contains <small/> tags\n",
    "            if i == 0:\n",
    "                smalls = cell.xpath(\"small\")\n",
    "                texts = [cell.text]\n",
    "                texts += [s.text for s in smalls if len(s) and s.text]\n",
    "                cell_content = \", \".join(texts)\n",
    "                \n",
    "            cell_content = cell_content.strip()\n",
    "\n",
    "            # there are three columns that contain just <span/> tags with specific classes\n",
    "            spans = cell.xpath(\"span\")\n",
    "            if spans:\n",
    "                cell_content = STRESS[spans[0].get('class').replace(\"hr-icon-\", '')]\n",
    "\n",
    "            if i == 6:\n",
    "                cell_content = datetime.strptime(cell_content, '%d.%m.%Y %H:%M')\n",
    "                \n",
    "            result[headers[i]].append(cell_content)\n",
    "            \n",
    "    return pd.DataFrame(result)"
   ]
  },
  {
   "cell_type": "markdown",
   "metadata": {},
   "source": [
    "## start scraping finally"
   ]
  },
  {
   "cell_type": "code",
   "execution_count": 98,
   "metadata": {},
   "outputs": [
    {
     "data": {
      "text/html": [
       "<div>\n",
       "<style scoped>\n",
       "    .dataframe tbody tr th:only-of-type {\n",
       "        vertical-align: middle;\n",
       "    }\n",
       "\n",
       "    .dataframe tbody tr th {\n",
       "        vertical-align: top;\n",
       "    }\n",
       "\n",
       "    .dataframe thead th {\n",
       "        text-align: right;\n",
       "    }\n",
       "</style>\n",
       "<table border=\"1\" class=\"dataframe\">\n",
       "  <thead>\n",
       "    <tr style=\"text-align: right;\">\n",
       "      <th></th>\n",
       "      <th>Klinikname</th>\n",
       "      <th>Kontakt</th>\n",
       "      <th>Bundesland</th>\n",
       "      <th>ICU low care¹</th>\n",
       "      <th>ICU high care²</th>\n",
       "      <th>ECMO³</th>\n",
       "      <th>Stand</th>\n",
       "    </tr>\n",
       "  </thead>\n",
       "  <tbody>\n",
       "    <tr>\n",
       "      <th>0</th>\n",
       "      <td>Asklepios Fachklinikum Brandenburg, Neurologis...</td>\n",
       "      <td>N4 Website</td>\n",
       "      <td>BB</td>\n",
       "      <td>1.0</td>\n",
       "      <td>0.0</td>\n",
       "      <td>NaN</td>\n",
       "      <td>2020-03-24 15:08:00</td>\n",
       "    </tr>\n",
       "    <tr>\n",
       "      <th>1</th>\n",
       "      <td>Karl-Hansen-Klinik Bad Lippspringe</td>\n",
       "      <td>Intensiv I und II Website</td>\n",
       "      <td>NRW</td>\n",
       "      <td>1.0</td>\n",
       "      <td>1.0</td>\n",
       "      <td>1.0</td>\n",
       "      <td>2020-03-24 14:45:00</td>\n",
       "    </tr>\n",
       "    <tr>\n",
       "      <th>2</th>\n",
       "      <td>Marienhausklinik St. Josef Kohlhof</td>\n",
       "      <td>Website</td>\n",
       "      <td>SL</td>\n",
       "      <td>0.0</td>\n",
       "      <td>1.0</td>\n",
       "      <td>NaN</td>\n",
       "      <td>2020-03-24 14:39:00</td>\n",
       "    </tr>\n",
       "    <tr>\n",
       "      <th>3</th>\n",
       "      <td>Dreifaltigkeits-Hospital gem. GmbH, Lippstadt</td>\n",
       "      <td>Intensivstation Website</td>\n",
       "      <td>NRW</td>\n",
       "      <td>0.0</td>\n",
       "      <td>1.0</td>\n",
       "      <td>NaN</td>\n",
       "      <td>2020-03-24 15:09:00</td>\n",
       "    </tr>\n",
       "    <tr>\n",
       "      <th>4</th>\n",
       "      <td>Universitätskinderklinik Bonn, Neonatologie un...</td>\n",
       "      <td>Pädiatrische Intensivstation Website</td>\n",
       "      <td>NRW</td>\n",
       "      <td>1.0</td>\n",
       "      <td>1.0</td>\n",
       "      <td>1.0</td>\n",
       "      <td>2020-03-24 14:30:00</td>\n",
       "    </tr>\n",
       "    <tr>\n",
       "      <th>...</th>\n",
       "      <td>...</td>\n",
       "      <td>...</td>\n",
       "      <td>...</td>\n",
       "      <td>...</td>\n",
       "      <td>...</td>\n",
       "      <td>...</td>\n",
       "      <td>...</td>\n",
       "    </tr>\n",
       "    <tr>\n",
       "      <th>611</th>\n",
       "      <td>Universitätsklinikum Bonn</td>\n",
       "      <td>Operative Intensivmedizin Website</td>\n",
       "      <td>NRW</td>\n",
       "      <td>1.0</td>\n",
       "      <td>1.0</td>\n",
       "      <td>1.0</td>\n",
       "      <td>2020-03-22 15:55:00</td>\n",
       "    </tr>\n",
       "    <tr>\n",
       "      <th>612</th>\n",
       "      <td>Klinikum Nürnberg</td>\n",
       "      <td>Website</td>\n",
       "      <td>BY</td>\n",
       "      <td>1.0</td>\n",
       "      <td>1.0</td>\n",
       "      <td>1.0</td>\n",
       "      <td>2013-03-20 09:26:00</td>\n",
       "    </tr>\n",
       "    <tr>\n",
       "      <th>613</th>\n",
       "      <td>Helios Klinikum Bad Saarow</td>\n",
       "      <td>ITS 1, ITS 2, ITS 3 Website</td>\n",
       "      <td>BB</td>\n",
       "      <td>0.5</td>\n",
       "      <td>1.0</td>\n",
       "      <td>1.0</td>\n",
       "      <td>2020-03-24 07:15:00</td>\n",
       "    </tr>\n",
       "    <tr>\n",
       "      <th>614</th>\n",
       "      <td>Elisabeth-Krankenhaus Essen</td>\n",
       "      <td>kardiologisch- internistische Intensivstation ...</td>\n",
       "      <td>NRW</td>\n",
       "      <td>1.0</td>\n",
       "      <td>1.0</td>\n",
       "      <td>1.0</td>\n",
       "      <td>2020-03-24 11:12:00</td>\n",
       "    </tr>\n",
       "    <tr>\n",
       "      <th>615</th>\n",
       "      <td>Charité - Universitätsmedizin Berlin</td>\n",
       "      <td>8i/144i/43i Website</td>\n",
       "      <td>BE</td>\n",
       "      <td>1.0</td>\n",
       "      <td>1.0</td>\n",
       "      <td>1.0</td>\n",
       "      <td>2020-03-24 10:21:00</td>\n",
       "    </tr>\n",
       "  </tbody>\n",
       "</table>\n",
       "<p>616 rows × 7 columns</p>\n",
       "</div>"
      ],
      "text/plain": [
       "                                            Klinikname  \\\n",
       "0    Asklepios Fachklinikum Brandenburg, Neurologis...   \n",
       "1                   Karl-Hansen-Klinik Bad Lippspringe   \n",
       "2                   Marienhausklinik St. Josef Kohlhof   \n",
       "3        Dreifaltigkeits-Hospital gem. GmbH, Lippstadt   \n",
       "4    Universitätskinderklinik Bonn, Neonatologie un...   \n",
       "..                                                 ...   \n",
       "611                          Universitätsklinikum Bonn   \n",
       "612                                  Klinikum Nürnberg   \n",
       "613                         Helios Klinikum Bad Saarow   \n",
       "614                        Elisabeth-Krankenhaus Essen   \n",
       "615               Charité - Universitätsmedizin Berlin   \n",
       "\n",
       "                                               Kontakt Bundesland  \\\n",
       "0                                           N4 Website         BB   \n",
       "1                            Intensiv I und II Website        NRW   \n",
       "2                                              Website         SL   \n",
       "3                              Intensivstation Website        NRW   \n",
       "4                 Pädiatrische Intensivstation Website        NRW   \n",
       "..                                                 ...        ...   \n",
       "611                  Operative Intensivmedizin Website        NRW   \n",
       "612                                            Website         BY   \n",
       "613                        ITS 1, ITS 2, ITS 3 Website         BB   \n",
       "614  kardiologisch- internistische Intensivstation ...        NRW   \n",
       "615                                8i/144i/43i Website         BE   \n",
       "\n",
       "     ICU low care¹  ICU high care²  ECMO³               Stand  \n",
       "0              1.0             0.0    NaN 2020-03-24 15:08:00  \n",
       "1              1.0             1.0    1.0 2020-03-24 14:45:00  \n",
       "2              0.0             1.0    NaN 2020-03-24 14:39:00  \n",
       "3              0.0             1.0    NaN 2020-03-24 15:09:00  \n",
       "4              1.0             1.0    1.0 2020-03-24 14:30:00  \n",
       "..             ...             ...    ...                 ...  \n",
       "611            1.0             1.0    1.0 2020-03-22 15:55:00  \n",
       "612            1.0             1.0    1.0 2013-03-20 09:26:00  \n",
       "613            0.5             1.0    1.0 2020-03-24 07:15:00  \n",
       "614            1.0             1.0    1.0 2020-03-24 11:12:00  \n",
       "615            1.0             1.0    1.0 2020-03-24 10:21:00  \n",
       "\n",
       "[616 rows x 7 columns]"
      ]
     },
     "execution_count": 98,
     "metadata": {},
     "output_type": "execute_result"
    }
   ],
   "source": [
    "df = to_dataframe(get_html(\n",
    "    url=\"https://divi.de/register/intensivregister?view=items\",\n",
    "    params={\n",
    "        \"filter[search]\": \"\",\n",
    "        \"list[fullordering]\": \"a.title+ASC\",\n",
    "        \"list[limit]\": 0,\n",
    "        \"filter[federalstate]\": 0,\n",
    "        \"filter[chronosort]\": 0,\n",
    "        \"filter[icu_highcare_state]\": \"\",\n",
    "        \"filter[ecmo_state]\": \"\",\n",
    "        \"filter[ards_network]\": \"\",\n",
    "        \"limitstart\": 0,\n",
    "        \"task\": \"\",\n",
    "        \"boxchecked\": 0,\n",
    "        \"07b860ef6bacf3cbfc30dc905ef94486\": 1}))\n",
    "df"
   ]
  },
  {
   "cell_type": "markdown",
   "metadata": {},
   "source": [
    "## Look deeper"
   ]
  },
  {
   "cell_type": "code",
   "execution_count": 103,
   "metadata": {},
   "outputs": [
    {
     "data": {
      "text/html": [
       "<div>\n",
       "<style scoped>\n",
       "    .dataframe tbody tr th:only-of-type {\n",
       "        vertical-align: middle;\n",
       "    }\n",
       "\n",
       "    .dataframe tbody tr th {\n",
       "        vertical-align: top;\n",
       "    }\n",
       "\n",
       "    .dataframe thead th {\n",
       "        text-align: right;\n",
       "    }\n",
       "</style>\n",
       "<table border=\"1\" class=\"dataframe\">\n",
       "  <thead>\n",
       "    <tr style=\"text-align: right;\">\n",
       "      <th></th>\n",
       "      <th>ICU low care¹</th>\n",
       "      <th>ICU high care²</th>\n",
       "      <th>ECMO³</th>\n",
       "    </tr>\n",
       "  </thead>\n",
       "  <tbody>\n",
       "    <tr>\n",
       "      <th>count</th>\n",
       "      <td>616.000000</td>\n",
       "      <td>616.000000</td>\n",
       "      <td>203.000000</td>\n",
       "    </tr>\n",
       "    <tr>\n",
       "      <th>mean</th>\n",
       "      <td>0.809253</td>\n",
       "      <td>0.867695</td>\n",
       "      <td>0.689655</td>\n",
       "    </tr>\n",
       "    <tr>\n",
       "      <th>std</th>\n",
       "      <td>0.335773</td>\n",
       "      <td>0.277817</td>\n",
       "      <td>0.430566</td>\n",
       "    </tr>\n",
       "    <tr>\n",
       "      <th>min</th>\n",
       "      <td>0.000000</td>\n",
       "      <td>0.000000</td>\n",
       "      <td>0.000000</td>\n",
       "    </tr>\n",
       "    <tr>\n",
       "      <th>25%</th>\n",
       "      <td>0.500000</td>\n",
       "      <td>1.000000</td>\n",
       "      <td>0.250000</td>\n",
       "    </tr>\n",
       "    <tr>\n",
       "      <th>50%</th>\n",
       "      <td>1.000000</td>\n",
       "      <td>1.000000</td>\n",
       "      <td>1.000000</td>\n",
       "    </tr>\n",
       "    <tr>\n",
       "      <th>75%</th>\n",
       "      <td>1.000000</td>\n",
       "      <td>1.000000</td>\n",
       "      <td>1.000000</td>\n",
       "    </tr>\n",
       "    <tr>\n",
       "      <th>max</th>\n",
       "      <td>1.000000</td>\n",
       "      <td>1.000000</td>\n",
       "      <td>1.000000</td>\n",
       "    </tr>\n",
       "  </tbody>\n",
       "</table>\n",
       "</div>"
      ],
      "text/plain": [
       "       ICU low care¹  ICU high care²       ECMO³\n",
       "count     616.000000      616.000000  203.000000\n",
       "mean        0.809253        0.867695    0.689655\n",
       "std         0.335773        0.277817    0.430566\n",
       "min         0.000000        0.000000    0.000000\n",
       "25%         0.500000        1.000000    0.250000\n",
       "50%         1.000000        1.000000    1.000000\n",
       "75%         1.000000        1.000000    1.000000\n",
       "max         1.000000        1.000000    1.000000"
      ]
     },
     "execution_count": 103,
     "metadata": {},
     "output_type": "execute_result"
    }
   ],
   "source": [
    "df = df.drop('Kontakt', axis=1)\n",
    "df.describe()"
   ]
  },
  {
   "cell_type": "code",
   "execution_count": 109,
   "metadata": {},
   "outputs": [
    {
     "data": {
      "text/plain": [
       "<matplotlib.axes._subplots.AxesSubplot at 0x7f70e745f810>"
      ]
     },
     "execution_count": 109,
     "metadata": {},
     "output_type": "execute_result"
    },
    {
     "data": {
      "image/png": "[encoded data removed]",
      "text/plain": [
       "<Figure size 432x288 with 1 Axes>"
      ]
     },
     "metadata": {},
     "output_type": "display_data"
    }
   ],
   "source": [
    "df['Stand'].hist()"
   ]
  },
  {
   "cell_type": "markdown",
   "metadata": {},
   "source": [
    "## Plot using mean of values"
   ]
  },
  {
   "cell_type": "code",
   "execution_count": 110,
   "metadata": {},
   "outputs": [
    {
     "data": {
      "text/plain": [
       "Text(0, 0.5, 'federal state')"
      ]
     },
     "execution_count": 110,
     "metadata": {},
     "output_type": "execute_result"
    },
    {
     "data": {
      "image/png": "[encoded data removed]",
      "text/plain": [
       "<Figure size 432x288 with 1 Axes>"
      ]
     },
     "metadata": {},
     "output_type": "display_data"
    }
   ],
   "source": [
    "plt.style.use('ggplot')\n",
    "df \\\n",
    ".replace({'red': 1.0, 'yellow': 0.5, 'green': 0.0, 'unavailable': np.nan}) \\\n",
    ".groupby('Bundesland').mean().reset_index() \\\n",
    ".plot(kind='barh', x='Bundesland', y=['ECMO³', 'ICU high care²', 'ICU low care¹'], stacked=True)\n",
    "plt.title(\"German hospital occupancy (mean)\")\n",
    "plt.xlabel(\"weight (exhausted = 1.0, limited = 0.5, free = 0.0)\")\n",
    "plt.xticks([0.0, 1.5, 3.0],[\"low\", \"high\", \"critical\"])\n",
    "plt.ylabel(\"federal state\")"
   ]
  },
  {
   "cell_type": "markdown",
   "metadata": {},
   "source": [
    "## Plot using median of values"
   ]
  },
  {
   "cell_type": "code",
   "execution_count": 111,
   "metadata": {},
   "outputs": [
    {
     "data": {
      "text/plain": [
       "Text(0, 0.5, 'federal state')"
      ]
     },
     "execution_count": 111,
     "metadata": {},
     "output_type": "execute_result"
    },
    {
     "data": {
      "image/png": "[encoded data removed]",
      "text/plain": [
       "<Figure size 432x288 with 1 Axes>"
      ]
     },
     "metadata": {},
     "output_type": "display_data"
    }
   ],
   "source": [
    "plt.style.use('ggplot')\n",
    "df \\\n",
    ".replace({'red': 1.0, 'yellow': 0.5, 'green': 0.0, 'unavailable': np.nan}) \\\n",
    ".groupby('Bundesland').median().reset_index() \\\n",
    ".plot(kind='barh', x='Bundesland', y=['ECMO³', 'ICU high care²', 'ICU low care¹'], stacked=True)\n",
    "plt.title(\"German hospital occupancy (median)\")\n",
    "plt.xlabel(\"weight (exhausted = 1.0, limited = 0.5, free = 0.0)\")\n",
    "plt.xticks([0.0, 0.5, 1.0],[\"low\", \"high\", \"critical\"])\n",
    "plt.ylabel(\"federal state\")"
   ]
  },
  {
   "cell_type": "code",
   "execution_count": null,
   "metadata": {},
   "outputs": [],
   "source": []
  }
 ],
 "metadata": {
  "kernelspec": {
   "display_name": "Python 3",
   "language": "python",
   "name": "python3"
  },
  "language_info": {
   "codemirror_mode": {
    "name": "ipython",
    "version": 3
   },
   "file_extension": ".py",
   "mimetype": "text/x-python",
   "name": "python",
   "nbconvert_exporter": "python",
   "pygments_lexer": "ipython3",
   "version": "3.7.7"
  }
 },
 "nbformat": 4,
 "nbformat_minor": 4
}
