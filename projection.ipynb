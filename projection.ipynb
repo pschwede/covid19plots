{
 "cells": [
  {
   "cell_type": "markdown",
   "metadata": {},
   "source": [
    "# Projection attempts"
   ]
  },
  {
   "cell_type": "markdown",
   "metadata": {},
   "source": [
    "## 1. Logistic continuation\n",
    "Assume that the whole population is available for infection. Use the most recent logistic r-values to project into the future.\n",
    "\n",
    "Plot below."
   ]
  },
  {
   "cell_type": "code",
   "execution_count": 1,
   "metadata": {
    "execution": {
     "iopub.execute_input": "2020-10-24T07:10:26.264298Z",
     "iopub.status.busy": "2020-10-24T07:10:26.253247Z",
     "iopub.status.idle": "2020-10-24T07:10:29.227775Z",
     "shell.execute_reply": "2020-10-24T07:10:29.224550Z"
    }
   },
   "outputs": [],
   "source": [
    "import pandas as pd\n",
    "import matplotlib.pyplot as plt\n",
    "from scrape import entorb\n",
    "import datetime\n",
    "\n",
    "\n",
    "\"\"\"\n",
    "Reproduction rate using logistic map\n",
    "\n",
    "Args:\n",
    "    df (DataFrame): data\n",
    "    population (int): total infectable population\n",
    "    generation_time: delay between infections in days\n",
    "\n",
    "Return:\n",
    "    DataFrame with reproduction rates for `Deaths` and `Cases`\n",
    "\"\"\"\n",
    "def polynomial_r(df, population = 83e6, generation_time=4):\n",
    "    rs = pd.DataFrame()\n",
    "    for col in ['Deaths', 'Cases']:\n",
    "        normalized = df[col] / population\n",
    "        earlier = normalized.shift(generation_time)\n",
    "        rs[col] = normalized / (earlier - earlier**2)\n",
    "    return rs\n",
    "\n",
    "def plot_projection(r1,r2,r3,r4):\n",
    "    xs = pd.date_range(start=de['Cases'].tail(1).index[0], periods=7*365, freq='1D')\n",
    "\n",
    "    ys1 = list(de[col].rolling('1D').mean().tail(1).values)\n",
    "    ys2 = list((de[col].rolling('1D').mean().tail(1)*4).values)\n",
    "    ys3, ys4 = list(ys1), list(ys1)\n",
    "    for i,x in enumerate(xs[:-1]):\n",
    "        ys1.append(r1(i) * ys1[-1] * max(0, 1 - ys1[-1]/pop))\n",
    "        ys2.append(r2(i) * ys2[-1] * max(0, 1 - ys2[-1]/pop))\n",
    "        ys3.append(r3(i) * ys3[-1] * max(0, 1 - ys3[-1]/pop))\n",
    "        ys4.append(r4(i) * ys4[-1] * max(0, 1 - ys4[-1]/pop))\n",
    "\n",
    "    projection = pd.DataFrame({'Date': xs,\n",
    "                               \"Projection 4x(Cases last1D(r))=%.3f\" % r2(i): ys2,\n",
    "                               \"Projection last14D(r)=%.3f\" % r3(i): ys3,\n",
    "                               \"Projection last7D(r)=%.3f\" % r4(i): ys4,\n",
    "                               \"Projection last1D(r)=%.3f\" % r1(i): ys1,\n",
    "                              }).set_index('Date')\n",
    "    _log=False\n",
    "    fig, axes = plt.subplots(nrows=2, sharex=True, figsize=(10,9))\n",
    "    \n",
    "    de[col].rolling('1D').mean().plot(ax=axes[0], logy=_log)\n",
    "    (de[col].rolling('1D').mean() * 4).plot(ax=axes[0], logy=_log, label='4xCases', style='-')\n",
    "    projection.plot(ax=axes[0])\n",
    "    \n",
    "    (de[col] - de[col].shift(1)).rolling('7D').mean().plot(ax=axes[1], logy=_log)\n",
    "    ((de[col] - de[col].shift(1)).rolling('7D').mean() * 4).plot(ax=axes[1], logy=_log, label=\"4x%s\"%col)\n",
    "    (projection - projection.shift(1)).plot(ax=axes[1])\n",
    "\n",
    "    for index, ax in enumerate(axes):\n",
    "        if index==1:\n",
    "            ax.legend(handles=ax.lines, loc='best')\n",
    "            # ax.set_ylim(None, (de[col] - de[col].shift(4)).rolling('7D').mean().max()*4)\n",
    "        ax.grid()\n",
    "\n",
    "    now = datetime.datetime.now()\n",
    "    fig.suptitle((\"COVID-19 spread projection using Logistic map assuming a carrying capacity of K=%dM people.\\n\"\n",
    "                  \"created: %d-%02d-%02d, \"\n",
    "                  \"author: @pschwede, \"\n",
    "                  \"source: JHU CSSE via @entorb & @pomber.\") % (pop/1e6, now.year, now.month, now.day))\n",
    "    fig.set_facecolor('w')\n",
    "    fig.tight_layout(rect=(0, 0.03, 1, 0.95))"
   ]
  },
  {
   "cell_type": "code",
   "execution_count": null,
   "metadata": {
    "execution": {
     "iopub.execute_input": "2020-10-24T07:10:29.277602Z",
     "iopub.status.busy": "2020-10-24T07:10:29.250226Z",
     "iopub.status.idle": "2020-10-24T07:11:00.508786Z",
     "shell.execute_reply": "2020-10-24T07:11:00.511456Z"
    },
    "scrolled": true
   },
   "outputs": [],
   "source": [
    "de = entorb.to_dataframe('DE-total')\n",
    "\n",
    "col = 'Cases'\n",
    "pop = 83e6\n",
    "\n",
    "rs = polynomial_r(de)[col].dropna()\n",
    "\n",
    "r1 = lambda x: rs.last('1D').mean()\n",
    "r2 = lambda x: polynomial_r(de * 4)[col].last('1D').mean()\n",
    "r3 = lambda x: rs.last('14D').mean()\n",
    "r4 = lambda x: rs.last('7D').mean()\n",
    "\n",
    "plot_projection(r1,r2,r3,r4)"
   ]
  },
  {
   "cell_type": "code",
   "execution_count": null,
   "metadata": {},
   "outputs": [],
   "source": []
  }
 ],
 "metadata": {
  "kernelspec": {
   "display_name": "Python 3",
   "language": "python",
   "name": "python3"
  },
  "language_info": {
   "codemirror_mode": {
    "name": "ipython",
    "version": 3
   },
   "file_extension": ".py",
   "mimetype": "text/x-python",
   "name": "python",
   "nbconvert_exporter": "python",
   "pygments_lexer": "ipython3",
   "version": "3.7.3"
  }
 },
 "nbformat": 4,
 "nbformat_minor": 4
}
